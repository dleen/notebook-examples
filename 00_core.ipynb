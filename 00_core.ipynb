{
 "cells": [
  {
   "cell_type": "code",
   "execution_count": null,
   "metadata": {},
   "outputs": [],
   "source": [
    "#| default_exp core"
   ]
  },
  {
   "cell_type": "markdown",
   "metadata": {},
   "source": [
    "# module name here\n",
    "\n",
    "> API details."
   ]
  },
  {
   "cell_type": "code",
   "execution_count": null,
   "metadata": {},
   "outputs": [],
   "source": [
    "#|hide\n",
    "from nbdev.showdoc import *\n",
    "from fastcore.test import *"
   ]
  },
  {
   "cell_type": "code",
   "execution_count": null,
   "metadata": {},
   "outputs": [],
   "source": [
    "import json\n",
    "\n",
    "import execnb.nbio\n",
    "import nbformat"
   ]
  },
  {
   "cell_type": "code",
   "execution_count": null,
   "metadata": {},
   "outputs": [
    {
     "name": "stdout",
     "output_type": "stream",
     "text": [
      "1+1\n",
      "2+2\n"
     ]
    }
   ],
   "source": [
    "print(\"1+1\\n2+2\")"
   ]
  },
  {
   "cell_type": "code",
   "execution_count": null,
   "metadata": {},
   "outputs": [],
   "source": [
    "nb1 = nbformat.read(\"./00_core.ipynb\", as_version=4)"
   ]
  },
  {
   "cell_type": "code",
   "execution_count": null,
   "metadata": {},
   "outputs": [
    {
     "data": {
      "text/plain": [
       "{'cell_type': 'code',\n",
       " 'execution_count': 4,\n",
       " 'metadata': {},\n",
       " 'outputs': [{'name': 'stdout',\n",
       "   'output_type': 'stream',\n",
       "   'text': '1+1\\n2+2\\n'}],\n",
       " 'source': 'print(\"1+1\\\\n2+2\")'}"
      ]
     },
     "execution_count": null,
     "metadata": {},
     "output_type": "execute_result"
    }
   ],
   "source": [
    "nb1.cells[4]"
   ]
  },
  {
   "cell_type": "code",
   "execution_count": null,
   "metadata": {},
   "outputs": [],
   "source": [
    "nb2 = execnb.nbio.read_nb(\"./00_core.ipynb\")"
   ]
  },
  {
   "cell_type": "code",
   "execution_count": null,
   "metadata": {},
   "outputs": [
    {
     "data": {
      "text/markdown": [
       "```json\n",
       "{ 'cell_type': 'code',\n",
       "  'execution_count': 4,\n",
       "  'idx_': 4,\n",
       "  'metadata': {},\n",
       "  'outputs': [ { 'name': 'stdout',\n",
       "                 'output_type': 'stream',\n",
       "                 'text': ['1+1\\n', '2+2\\n']}],\n",
       "  'source': 'print(\"1+1\\\\n2+2\")'}\n",
       "```"
      ],
      "text/plain": [
       "{'cell_type': 'code',\n",
       " 'execution_count': 4,\n",
       " 'metadata': {},\n",
       " 'outputs': [{'name': 'stdout',\n",
       "   'output_type': 'stream',\n",
       "   'text': ['1+1\\n', '2+2\\n']}],\n",
       " 'source': 'print(\"1+1\\\\n2+2\")',\n",
       " 'idx_': 4}"
      ]
     },
     "execution_count": null,
     "metadata": {},
     "output_type": "execute_result"
    }
   ],
   "source": [
    "nb2.cells[4]"
   ]
  },
  {
   "cell_type": "code",
   "execution_count": null,
   "metadata": {},
   "outputs": [
    {
     "ename": "AssertionError",
     "evalue": "==:\n[{'name': 'stdout', 'output_type': 'stream', 'text': ['1+1\\n', '2+2\\n']}]\n[{'name': 'stdout', 'output_type': 'stream', 'text': '1+1\\n2+2\\n'}]",
     "output_type": "error",
     "traceback": [
      "\u001b[0;31m---------------------------------------------------------------------------\u001b[0m",
      "\u001b[0;31mAssertionError\u001b[0m                            Traceback (most recent call last)",
      "\u001b[1;32m/Users/dleen/code/notebook-examples/00_core.ipynb Cell 10\u001b[0m in \u001b[0;36m<cell line: 1>\u001b[0;34m()\u001b[0m\n\u001b[0;32m----> <a href='vscode-notebook-cell:/Users/dleen/code/notebook-examples/00_core.ipynb#X13sZmlsZQ%3D%3D?line=0'>1</a>\u001b[0m test_eq(nb2\u001b[39m.\u001b[39;49mcells[\u001b[39m4\u001b[39;49m]\u001b[39m.\u001b[39;49moutputs, nb1\u001b[39m.\u001b[39;49mcells[\u001b[39m4\u001b[39;49m]\u001b[39m.\u001b[39;49moutputs)\n",
      "File \u001b[0;32m~/mambaforge/lib/python3.9/site-packages/fastcore/test.py:37\u001b[0m, in \u001b[0;36mtest_eq\u001b[0;34m(a, b)\u001b[0m\n\u001b[1;32m     35\u001b[0m \u001b[39mdef\u001b[39;00m \u001b[39mtest_eq\u001b[39m(a,b):\n\u001b[1;32m     36\u001b[0m     \u001b[39m\"\u001b[39m\u001b[39m`test` that `a==b`\u001b[39m\u001b[39m\"\u001b[39m\n\u001b[0;32m---> 37\u001b[0m     test(a,b,equals, \u001b[39m'\u001b[39;49m\u001b[39m==\u001b[39;49m\u001b[39m'\u001b[39;49m)\n",
      "File \u001b[0;32m~/mambaforge/lib/python3.9/site-packages/fastcore/test.py:27\u001b[0m, in \u001b[0;36mtest\u001b[0;34m(a, b, cmp, cname)\u001b[0m\n\u001b[1;32m     25\u001b[0m \u001b[39m\"\u001b[39m\u001b[39m`assert` that `cmp(a,b)`; display inputs and `cname or cmp.__name__` if it fails\u001b[39m\u001b[39m\"\u001b[39m\n\u001b[1;32m     26\u001b[0m \u001b[39mif\u001b[39;00m cname \u001b[39mis\u001b[39;00m \u001b[39mNone\u001b[39;00m: cname\u001b[39m=\u001b[39mcmp\u001b[39m.\u001b[39m\u001b[39m__name__\u001b[39m\n\u001b[0;32m---> 27\u001b[0m \u001b[39massert\u001b[39;00m cmp(a,b),\u001b[39mf\u001b[39m\u001b[39m\"\u001b[39m\u001b[39m{\u001b[39;00mcname\u001b[39m}\u001b[39;00m\u001b[39m:\u001b[39m\u001b[39m\\n\u001b[39;00m\u001b[39m{\u001b[39;00ma\u001b[39m}\u001b[39;00m\u001b[39m\\n\u001b[39;00m\u001b[39m{\u001b[39;00mb\u001b[39m}\u001b[39;00m\u001b[39m\"\u001b[39m\n",
      "\u001b[0;31mAssertionError\u001b[0m: ==:\n[{'name': 'stdout', 'output_type': 'stream', 'text': ['1+1\\n', '2+2\\n']}]\n[{'name': 'stdout', 'output_type': 'stream', 'text': '1+1\\n2+2\\n'}]"
     ]
    }
   ],
   "source": [
    "test_eq(nb2.cells[4].outputs, nb1.cells[4].outputs)"
   ]
  }
 ],
 "metadata": {
  "kernelspec": {
   "display_name": "Python 3.9.13 ('base')",
   "language": "python",
   "name": "python3"
  }
 },
 "nbformat": 4,
 "nbformat_minor": 4
}
